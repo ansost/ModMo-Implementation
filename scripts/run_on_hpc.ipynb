{
 "cells": [
  {
   "cell_type": "markdown",
   "id": "4aaf347b",
   "metadata": {},
   "source": [
    "### Run the models on HPC"
   ]
  },
  {
   "cell_type": "code",
   "execution_count": null,
   "id": "19e2a95b",
   "metadata": {},
   "outputs": [],
   "source": [
    "#!PIP_CONFIG_FILE=/software/python/pip.conf pip install --user memory_profiler\n",
    "from pyndl import ndl, activation"
   ]
  },
  {
   "cell_type": "code",
   "execution_count": null,
   "id": "d31e7b3d",
   "metadata": {},
   "outputs": [],
   "source": [
    "# Compute the weights. \n",
    "weights = ndl.ndl(events = \"../data/m1_syllable.gz\",\n",
    "                  alpha=0.1, betas=(0.1, 0.1), method=\"openmp\", verbose = True, remove_duplicates = True)\n",
    "weights.to_netcdf(\"../data/m1_weights.nc\")\n",
    "\n",
    "# Compute activations for the model.\n",
    "activation = activation.activation(events = \"../data/m1_syllable.gz\", weights = weights, remove_duplicates = True)\n",
    "activation.to_netcdf(\"../data/m1_activations.nc\")\n",
    "del weights, activation"
   ]
  },
  {
   "cell_type": "code",
   "execution_count": null,
   "id": "34188ec9",
   "metadata": {},
   "outputs": [],
   "source": [
    "weights = ndl.ndl(events = \"../data/m2_separate.gz\",\n",
    "                  alpha=0.1, betas=(0.1, 0.1), method=\"openmp\", verbose = True, remove_duplicates = True)\n",
    "weights.to_netcdf(\"../data/m2_weights.nc\")\n",
    "\n",
    "activation = activation.activation(events = \"../data/m2_separate.gz\", weights = weights, remove_duplicates = True)\n",
    "activation.to_netcdf(\"../data/m2_activations.nc\")\n",
    "del weights, activation"
   ]
  },
  {
   "cell_type": "code",
   "execution_count": null,
   "id": "1d15a7c7",
   "metadata": {},
   "outputs": [],
   "source": [
    "weights = ndl.ndl(events = \"../data/m3_separate_filtered.gz\",\n",
    "                  alpha=0.1, betas=(0.1, 0.1), method=\"openmp\", verbose = True, remove_duplicates = True)\n",
    "weights.to_netcdf(\"../data/m3_weights.nc\")\n",
    "\n",
    "activation = activation.activation(events = \"../data/m3_separate_filtered.gz\", weights = weights, remove_duplicates = True)\n",
    "activation.to_netcdf(\"../data/m3_activations.nc\")\n",
    "del weights, activation"
   ]
  }
 ],
 "metadata": {
  "kernelspec": {
   "display_name": "Python 3 (ipykernel)",
   "language": "python",
   "name": "python3"
  },
  "language_info": {
   "codemirror_mode": {
    "name": "ipython",
    "version": 3
   },
   "file_extension": ".py",
   "mimetype": "text/x-python",
   "name": "python",
   "nbconvert_exporter": "python",
   "pygments_lexer": "ipython3",
   "version": "3.8.10"
  }
 },
 "nbformat": 4,
 "nbformat_minor": 5
}

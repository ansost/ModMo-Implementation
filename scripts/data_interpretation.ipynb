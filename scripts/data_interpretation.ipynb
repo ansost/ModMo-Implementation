{
 "cells": [
  {
   "cell_type": "code",
   "execution_count": 1,
   "id": "d3aaccfd",
   "metadata": {},
   "outputs": [],
   "source": [
    "import xarray\n",
    "import pandas as pd\n",
    "import os"
   ]
  },
  {
   "cell_type": "code",
   "execution_count": 119,
   "id": "14e01bfe",
   "metadata": {},
   "outputs": [],
   "source": [
    "def get_predictions(events, activations):\n",
    "    \"\"\"Get the predictions for a given event (activation) from an NDL activation matrix.\n",
    "    \n",
    "    Input:\n",
    "    ------\n",
    "    activations - str \n",
    "        Path to a .nc file containing an actiation matrix with dimensions event (y-axis) and outcomes (x-axis).\n",
    "        \n",
    "    Output:\n",
    "    -------\n",
    "    table - dictionary\n",
    "        Dictionary with event number as keys and a nested dictionary of the prediction and the actual value as values. \n",
    "        Example: {event0: {':'ity'}}\n",
    "    \"\"\"\n",
    "    with xarray.open_dataarray(activations) as acts:  \n",
    "        acts = acts.to_pandas()\n",
    "    \n",
    "    # Get max values (row index aka the suffix) for all columns. Convert to dictionary. \n",
    "    activations_dict = acts.idxmax()\n",
    "    activations_dict = activations_dict.to_dict()\n",
    "    \n",
    "    events = pd.read_csv(events, sep = '\\t', usecols = ['Outcomes']).squeeze(\"columns\")\n",
    "    predictions = {}\n",
    "    \n",
    "    for event, prediction in activations_dict.items():\n",
    "        entry = 'event'+ str(event)\n",
    "        predictions[entry] = {'prediction': prediction, 'suffix':events[event]}\n",
    "    \n",
    "    return predictions     \n",
    "    \n",
    "    \n",
    "def evaluation(predictions):\n",
    "    \"\"\"Get evaluation of predictions.\n",
    "    Percentage: Dividing the number of correct predictions by the total number of predictions.\n",
    "    \n",
    "    Input:\n",
    "    -----\n",
    "    predictions - dictionary\n",
    "        Dictionary with events as keys and a nested dictionary of the prediction and the actual value as values.\n",
    "        \n",
    "    Output:\n",
    "    ------\n",
    "    \n",
    "    \"\"\"\n",
    "    truePos_ity = 0\n",
    "    falsePos_ity = 0\n",
    "    falseNeg_ity = 0\n",
    "    truePos_ness = 0\n",
    "    falsePos_ness = 0\n",
    "    falseNeg_ness = 0\n",
    "    correctPred = 0\n",
    "\n",
    "    for item in predictions.items():\n",
    "        if item[1]['prediction'] == 'ity' and item[1]['suffix'] == 'ity':\n",
    "            truePos_ity += 1\n",
    "        elif item[1]['prediction'] == 'ity' and item[1]['suffix'] == 'ness':\n",
    "            falsePos_ity += 1\n",
    "        elif item[1]['prediction'] == 'ness' and item[1]['suffix'] == 'ity':\n",
    "            falseNeg_ity += 1\n",
    "    \n",
    "    \n",
    "    for item in predictions.items():\n",
    "        if item[1]['prediction'] == 'ness' and item[1]['suffix'] == 'ness':\n",
    "            truePos_ness += 1\n",
    "        elif item[1]['prediction'] == 'ness' and item[1]['suffix'] == 'ity':\n",
    "            falsePos_ness += 1\n",
    "        elif item[1]['prediction'] == 'ity' and item[1]['suffix'] == 'ness':\n",
    "            falseNeg_ness += 1\n",
    "            \n",
    "    for item in predictions.items():\n",
    "        if item[1]['prediction'] == 'ity' and item[1]['suffix'] == 'ity' or item[1]['prediction'] == 'ness' and item[1]['suffix'] == 'ness':\n",
    "            correctPred += 1\n",
    "    \n",
    "    precision_ity = truePos_ity / (truePos_ity + falsePos_ity)\n",
    "    recall_ity = truePos_ity / (truePos_ity + falseNeg_ity)\n",
    "    \n",
    "    precision_ness = truePos_ness / (truePos_ness + falsePos_ness)\n",
    "    recall_ness = truePos_ness / (truePos_ness + falseNeg_ness)\n",
    "    \n",
    "    f1_ity = 2 * (precision_ity * recall_ity) / (precision_ity + recall_ity)\n",
    "    f1_ness = 2 * (precision_ness * recall_ness) / (precision_ness + recall_ness)\n",
    "    \n",
    "    percentage = correctPred / len(predictions)\n",
    "    macro = (f1_ity + f1_ness) / 2\n",
    "    \n",
    "    return 'f1 for ity: ', f1_ity, 'f1 for ness', f1_ness, 'macro-averaged: ', macro, str(percentage) + '%'"
   ]
  },
  {
   "cell_type": "code",
   "execution_count": 120,
   "id": "30a46e23",
   "metadata": {},
   "outputs": [
    {
     "data": {
      "text/plain": [
       "('f1 for ity: ',\n",
       " 0.78300803673938,\n",
       " 'f1 for ness',\n",
       " 0.2645914396887159,\n",
       " 'macro-averaged: ',\n",
       " 0.523799738214048,\n",
       " '0.6648936170212766%')"
      ]
     },
     "execution_count": 120,
     "metadata": {},
     "output_type": "execute_result"
    }
   ],
   "source": [
    "# F1 score and correct prediction percentage for Model 1\n",
    "predictions = get_predictions(events = '../data/m1_syllable.tsv', activations = \"../data/m1_activations.nc\")\n",
    "evaluation(predictions)"
   ]
  },
  {
   "cell_type": "code",
   "execution_count": 121,
   "id": "92d9eb91",
   "metadata": {},
   "outputs": [
    {
     "data": {
      "text/plain": [
       "('f1 for ity: ',\n",
       " 0.8746594005449592,\n",
       " 'f1 for ness',\n",
       " 0.766497461928934,\n",
       " 'macro-averaged: ',\n",
       " 0.8205784312369466,\n",
       " '0.8368794326241135%')"
      ]
     },
     "execution_count": 121,
     "metadata": {},
     "output_type": "execute_result"
    }
   ],
   "source": [
    "# F1 score and correct prediction percentage for Model 2\n",
    "predictions = get_predictions(events = '../data/m2_separate.tsv', activations = \"../data/m2_activations.nc\")\n",
    "evaluation(predictions)"
   ]
  },
  {
   "cell_type": "code",
   "execution_count": 122,
   "id": "4cb9f0e3",
   "metadata": {},
   "outputs": [
    {
     "data": {
      "text/plain": [
       "('f1 for ity: ',\n",
       " 0.8778523489932886,\n",
       " 'f1 for ness',\n",
       " 0.7624020887728461,\n",
       " 'macro-averaged: ',\n",
       " 0.8201272188830673,\n",
       " '0.8386524822695035%')"
      ]
     },
     "execution_count": 122,
     "metadata": {},
     "output_type": "execute_result"
    }
   ],
   "source": [
    "# F1 score and correct prediction percentage for Model 3\n",
    "predictions = get_predictions(events = '../data/m3_separate_filtered.tsv', activations = \"../data/m3_activations.nc\")\n",
    "evaluation(predictions)"
   ]
  }
 ],
 "metadata": {
  "kernelspec": {
   "display_name": "Python 3 (ipykernel)",
   "language": "python",
   "name": "python3"
  },
  "language_info": {
   "codemirror_mode": {
    "name": "ipython",
    "version": 3
   },
   "file_extension": ".py",
   "mimetype": "text/x-python",
   "name": "python",
   "nbconvert_exporter": "python",
   "pygments_lexer": "ipython3",
   "version": "3.8.10"
  }
 },
 "nbformat": 4,
 "nbformat_minor": 5
}

{
 "cells": [
  {
   "cell_type": "markdown",
   "id": "a8dc7da3",
   "metadata": {},
   "source": [
    "### Data Interpretation"
   ]
  },
  {
   "cell_type": "code",
   "execution_count": 1,
   "id": "d3aaccfd",
   "metadata": {},
   "outputs": [],
   "source": [
    "import xarray\n",
    "import pandas as pd\n",
    "import os"
   ]
  },
  {
   "cell_type": "code",
   "execution_count": 103,
   "id": "14e01bfe",
   "metadata": {},
   "outputs": [],
   "source": [
    "def get_predictions(events, activations):\n",
    "    \"\"\"Get the predictions for a given event (activation) from an NDL activation matrix.\n",
    "    \n",
    "    Input:\n",
    "    ------\n",
    "    activations - str \n",
    "        Path to a .nc file containing an actiation matrix with dimensions event (y-axis) and outcomes (x-axis).\n",
    "        \n",
    "    Output:\n",
    "    -------\n",
    "    table - dictionary\n",
    "        Dictionary with event number as keys and a nested dictionary of the prediction and the actual value as values. \n",
    "        Example: {event0: {':'ity'}}\n",
    "    \"\"\"\n",
    "    with xarray.open_dataarray(activations) as acts:  \n",
    "        acts = acts.to_pandas()\n",
    "    \n",
    "    # Get max values (row index aka the suffix) for all columns. Convert to dictionary. \n",
    "    activations_dict = acts.idxmax()\n",
    "    activations_dict = activations_dict.to_dict()\n",
    "    \n",
    "    events = pd.read_csv(events, sep = '\\t', usecols = ['Outcomes']).squeeze(\"columns\")\n",
    "    predictions = {}\n",
    "    \n",
    "    for event, prediction in activations_dict.items():\n",
    "        entry = 'event'+ str(event)\n",
    "        predictions[entry] = {'prediction': prediction, 'suffix':events[event]}\n",
    "    \n",
    "    return predictions     \n",
    "    \n",
    "    \n",
    "def evaluation(predictions):\n",
    "    \"\"\"Get evaluation of predictions.\n",
    "    Percentage: Dividing the number of correct predictions by the total number of predictions.\n",
    "    \n",
    "    Input:\n",
    "    -----\n",
    "    predictions - dictionary\n",
    "        Dictionary with events as keys and a nested dictionary of the prediction and the actual value as values.\n",
    "        \n",
    "    Output:\n",
    "    ------\n",
    "    \n",
    "    \"\"\"\n",
    "    truePos = 0\n",
    "    falsePos = 0\n",
    "    falseNeg = 0\n",
    "    correctPred = 0\n",
    "\n",
    "    for item in predictions.items():\n",
    "        if item[1]['prediction'] == 'ity' and item[1]['suffix'] == 'ity':\n",
    "            truePos += 1\n",
    "        elif item[1]['prediction'] == 'ity' and item[1]['suffix'] == 'ness':\n",
    "            falsePos += 1\n",
    "        elif item[1]['prediction'] == 'ness' and item[1]['suffix'] == 'ity':\n",
    "            falseNeg += 1\n",
    "            \n",
    "    for item in predictions.items():\n",
    "        if item[1]['prediction'] == 'ity' and item[1]['suffix'] == 'ity' or item[1]['prediction'] == 'ness' and item[1]['suffix'] == 'ness':\n",
    "            correctPred += 1\n",
    "    \n",
    "    precision = truePos / (truePos + falsePos)\n",
    "    recall = truePos / (truePos + falseNeg)\n",
    "    \n",
    "    f1 = 2 * (precision * recall) / (precision + recall)\n",
    "    percentage = correctPred / len(predictions)\n",
    "    \n",
    "    return f1, str(percentage) + '%'"
   ]
  },
  {
   "cell_type": "code",
   "execution_count": 104,
   "id": "045ec590",
   "metadata": {},
   "outputs": [
    {
     "data": {
      "text/plain": [
       "(0.78300803673938, '0.6648936170212766%')"
      ]
     },
     "execution_count": 104,
     "metadata": {},
     "output_type": "execute_result"
    }
   ],
   "source": [
    "# F1 score and correct prediction percentage for Model 1\n",
    "predictions = get_predictions(events = '../data/m1_syllable.tsv', activations = \"../data/m1_activations.nc\")\n",
    "evaluation(predictions)"
   ]
  },
  {
   "cell_type": "code",
   "execution_count": 105,
   "id": "f3f947b9",
   "metadata": {},
   "outputs": [
    {
     "data": {
      "text/plain": [
       "(0.8746594005449592, '0.8368794326241135%')"
      ]
     },
     "execution_count": 105,
     "metadata": {},
     "output_type": "execute_result"
    }
   ],
   "source": [
    "# F1 score and correct prediction percentage for Model 2\n",
    "predictions = get_predictions(events = '../data/m2_separate.tsv', activations = \"../data/m2_activations.nc\")\n",
    "evaluation(predictions)"
   ]
  },
  {
   "cell_type": "code",
   "execution_count": 106,
   "id": "58d1229b",
   "metadata": {},
   "outputs": [
    {
     "data": {
      "text/plain": [
       "(0.8778523489932886, '0.8386524822695035%')"
      ]
     },
     "execution_count": 106,
     "metadata": {},
     "output_type": "execute_result"
    }
   ],
   "source": [
    "# F1 score and correct prediction percentage for Model 3\n",
    "predictions = get_predictions(events = '../data/m3_separate_filtered.tsv', activations = \"../data/m3_activations.nc\")\n",
    "evaluation(predictions)"
   ]
  }
 ],
 "metadata": {
  "kernelspec": {
   "display_name": "Python 3 (ipykernel)",
   "language": "python",
   "name": "python3"
  },
  "language_info": {
   "codemirror_mode": {
    "name": "ipython",
    "version": 3
   },
   "file_extension": ".py",
   "mimetype": "text/x-python",
   "name": "python",
   "nbconvert_exporter": "python",
   "pygments_lexer": "ipython3",
   "version": "3.8.10"
  }
 },
 "nbformat": 4,
 "nbformat_minor": 5
}

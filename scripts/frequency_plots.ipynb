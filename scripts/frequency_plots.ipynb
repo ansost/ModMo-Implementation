{
 "cells": [
  {
   "cell_type": "markdown",
   "id": "2482b22f",
   "metadata": {},
   "source": [
    "### Plots\n",
    "TODO: Think about good plot for cue freq.!"
   ]
  },
  {
   "cell_type": "code",
   "execution_count": 17,
   "id": "fd8f0622",
   "metadata": {},
   "outputs": [],
   "source": [
    "import matplotlib.pyplot as plt\n",
    "import seaborn as sns\n",
    "import pandas as pd\n",
    "from pyndl import count"
   ]
  },
  {
   "cell_type": "code",
   "execution_count": 80,
   "id": "f5bb6796",
   "metadata": {},
   "outputs": [],
   "source": [
    "# Gets frequencies of cues and outcomes from an event file.  \n",
    "freq, cue_freq_map, outcome_freq_map = count.cues_outcomes(event_file_name = \"../data/m2_separate.gz\")"
   ]
  },
  {
   "cell_type": "code",
   "execution_count": 109,
   "id": "d13c5173",
   "metadata": {},
   "outputs": [],
   "source": [
    "# Make dataframes out of the dicts\n",
    "cue_freq_df = pd.DataFrame.from_dict(cue_freq_map, orient = 'index', columns = ['frequency'])\n",
    "cue_freq_df.reset_index(inplace = True)\n",
    "outcome_freq_df = pd.DataFrame.from_dict(outcome_freq_map, orient = 'index', columns = ['frequency'])\n",
    "outcome_freq_df.reset_index(inplace = True)"
   ]
  },
  {
   "cell_type": "markdown",
   "id": "40a5d289",
   "metadata": {},
   "source": [
    "#### Me trying to plot in Python:"
   ]
  },
  {
   "cell_type": "code",
   "execution_count": 108,
   "id": "365772cb",
   "metadata": {},
   "outputs": [
    {
     "data": {
      "text/plain": [
       "[Text(0.5, 0, 'Suffixes'),\n",
       " Text(0, 0.5, 'Frequency'),\n",
       " Text(0.5, 1.0, 'Frequency of Suffixes')]"
      ]
     },
     "execution_count": 108,
     "metadata": {},
     "output_type": "execute_result"
    },
    {
     "data": {
      "image/png": "[encoded data removed]",
      "text/plain": [
       "<Figure size 540x252 with 1 Axes>"
      ]
     },
     "metadata": {},
     "output_type": "display_data"
    }
   ],
   "source": [
    "# Create a visualization\n",
    "color = sns.color_palette(\"colorblind\")\n",
    "plot = sns.barplot(data=outcome_freq_df, x=\"index\", y=\"frequency\")\n",
    "plot.set(xlabel =\"Suffixes\", ylabel = \"Frequency\", title =\"Frequency of Suffixes\")\n",
    "#plot.savefig('suff_frequency.png')"
   ]
  },
  {
   "cell_type": "code",
   "execution_count": 116,
   "id": "3fdb9397",
   "metadata": {},
   "outputs": [
    {
     "data": {
      "text/html": [
       "<div>\n",
       "<style scoped>\n",
       "    .dataframe tbody tr th:only-of-type {\n",
       "        vertical-align: middle;\n",
       "    }\n",
       "\n",
       "    .dataframe tbody tr th {\n",
       "        vertical-align: top;\n",
       "    }\n",
       "\n",
       "    .dataframe thead th {\n",
       "        text-align: right;\n",
       "    }\n",
       "</style>\n",
       "<table border=\"1\" class=\"dataframe\">\n",
       "  <thead>\n",
       "    <tr style=\"text-align: right;\">\n",
       "      <th></th>\n",
       "      <th>index</th>\n",
       "      <th>frequency</th>\n",
       "    </tr>\n",
       "  </thead>\n",
       "  <tbody>\n",
       "    <tr>\n",
       "      <th>0</th>\n",
       "      <td>=</td>\n",
       "      <td>845</td>\n",
       "    </tr>\n",
       "    <tr>\n",
       "      <th>1</th>\n",
       "      <td>q</td>\n",
       "      <td>247</td>\n",
       "    </tr>\n",
       "    <tr>\n",
       "      <th>2</th>\n",
       "      <td>b</td>\n",
       "      <td>135</td>\n",
       "    </tr>\n",
       "    <tr>\n",
       "      <th>3</th>\n",
       "      <td>ow</td>\n",
       "      <td>9</td>\n",
       "    </tr>\n",
       "    <tr>\n",
       "      <th>4</th>\n",
       "      <td>t</td>\n",
       "      <td>147</td>\n",
       "    </tr>\n",
       "    <tr>\n",
       "      <th>...</th>\n",
       "      <td>...</td>\n",
       "      <td>...</td>\n",
       "    </tr>\n",
       "    <tr>\n",
       "      <th>295</th>\n",
       "      <td>ns</td>\n",
       "      <td>3</td>\n",
       "    </tr>\n",
       "    <tr>\n",
       "      <th>300</th>\n",
       "      <td>kw</td>\n",
       "      <td>2</td>\n",
       "    </tr>\n",
       "    <tr>\n",
       "      <th>319</th>\n",
       "      <td>pr</td>\n",
       "      <td>4</td>\n",
       "    </tr>\n",
       "    <tr>\n",
       "      <th>329</th>\n",
       "      <td>sn</td>\n",
       "      <td>2</td>\n",
       "    </tr>\n",
       "    <tr>\n",
       "      <th>343</th>\n",
       "      <td>sw</td>\n",
       "      <td>2</td>\n",
       "    </tr>\n",
       "  </tbody>\n",
       "</table>\n",
       "<p>67 rows × 2 columns</p>\n",
       "</div>"
      ],
      "text/plain": [
       "    index  frequency\n",
       "0       =        845\n",
       "1       q        247\n",
       "2       b        135\n",
       "3      ow          9\n",
       "4       t        147\n",
       "..    ...        ...\n",
       "295    ns          3\n",
       "300    kw          2\n",
       "319    pr          4\n",
       "329    sn          2\n",
       "343    sw          2\n",
       "\n",
       "[67 rows x 2 columns]"
      ]
     },
     "execution_count": 116,
     "metadata": {},
     "output_type": "execute_result"
    }
   ],
   "source": [
    "above_1 = cue_freq_df[cue_freq_df[\"frequency\"] > 1]\n",
    "above_1"
   ]
  },
  {
   "cell_type": "code",
   "execution_count": 125,
   "id": "87383688",
   "metadata": {
    "collapsed": true
   },
   "outputs": [
    {
     "data": {
      "text/plain": [
       "[Text(0, 0, '='),\n",
       " Text(1, 0, 'q'),\n",
       " Text(2, 0, 'b'),\n",
       " Text(3, 0, 'ow'),\n",
       " Text(4, 0, 't'),\n",
       " Text(5, 0, 'word'),\n",
       " Text(6, 0, 'sh'),\n",
       " Text(7, 0, 'n'),\n",
       " Text(8, 0, 'l'),\n",
       " Text(9, 0, 's'),\n",
       " Text(10, 0, 'z'),\n",
       " Text(11, 0, 'or'),\n",
       " Text(12, 0, 'p'),\n",
       " Text(13, 0, 'i'),\n",
       " Text(14, 0, 'v'),\n",
       " Text(15, 0, 'f'),\n",
       " Text(16, 0, 'e'),\n",
       " Text(17, 0, 'kt'),\n",
       " Text(18, 0, 'fr'),\n",
       " Text(19, 0, 'k'),\n",
       " Text(20, 0, 'dzh'),\n",
       " Text(21, 0, 'gr'),\n",
       " Text(22, 0, 'oo'),\n",
       " Text(23, 0, 'r'),\n",
       " Text(24, 0, 'a'),\n",
       " Text(25, 0, 'bound'),\n",
       " Text(26, 0, 'ay'),\n",
       " Text(27, 0, 'zh'),\n",
       " Text(28, 0, 'w'),\n",
       " Text(29, 0, 'd'),\n",
       " Text(30, 0, 'y'),\n",
       " Text(31, 0, 'o'),\n",
       " Text(32, 0, 'nd'),\n",
       " Text(33, 0, 'm'),\n",
       " Text(34, 0, 'oh'),\n",
       " Text(35, 0, 'tr'),\n",
       " Text(36, 0, 'bl'),\n",
       " Text(37, 0, 'ur'),\n",
       " Text(38, 0, 'th'),\n",
       " Text(39, 0, 'kl'),\n",
       " Text(40, 0, 'ah'),\n",
       " Text(41, 0, 'g'),\n",
       " Text(42, 0, 'u'),\n",
       " Text(43, 0, 'ng'),\n",
       " Text(44, 0, 'eye'),\n",
       " Text(45, 0, 'dr'),\n",
       " Text(46, 0, 'str'),\n",
       " Text(47, 0, 'iq'),\n",
       " Text(48, 0, 'by'),\n",
       " Text(49, 0, 'ee'),\n",
       " Text(50, 0, 'ty'),\n",
       " Text(51, 0, 'h'),\n",
       " Text(52, 0, 'st'),\n",
       " Text(53, 0, 'phrase'),\n",
       " Text(54, 0, 'ky'),\n",
       " Text(55, 0, 'ue'),\n",
       " Text(56, 0, 'pl'),\n",
       " Text(57, 0, 'ks'),\n",
       " Text(58, 0, 'tsh'),\n",
       " Text(59, 0, 'kr'),\n",
       " Text(60, 0, 'dy'),\n",
       " Text(61, 0, 'sp'),\n",
       " Text(62, 0, 'ns'),\n",
       " Text(63, 0, 'kw'),\n",
       " Text(64, 0, 'pr'),\n",
       " Text(65, 0, 'sn'),\n",
       " Text(66, 0, 'sw')]"
      ]
     },
     "execution_count": 125,
     "metadata": {},
     "output_type": "execute_result"
    },
    {
     "data": {
      "image/png": "[encoded data removed]",
      "text/plain": [
       "<Figure size 540x252 with 1 Axes>"
      ]
     },
     "metadata": {},
     "output_type": "display_data"
    }
   ],
   "source": [
    "# Create a visualization\n",
    "color = sns.color_palette(\"colorblind\")\n",
    "plot = sns.barplot(data=above_1, x=\"index\", y=\"frequency\")\n",
    "plot.set(xlabel =\"Suffixes\", ylabel = \"Frequency\", title =\"Frequency of Suffixes\")\n",
    "plot.set_xticklabels(plot.get_xticklabels(), rotation=100)\n",
    "#plot.show()\n",
    "#plot.savefig('suff_frequency.png')"
   ]
  }
 ],
 "metadata": {
  "kernelspec": {
   "display_name": "Python 3 (ipykernel)",
   "language": "python",
   "name": "python3"
  },
  "language_info": {
   "codemirror_mode": {
    "name": "ipython",
    "version": 3
   },
   "file_extension": ".py",
   "mimetype": "text/x-python",
   "name": "python",
   "nbconvert_exporter": "python",
   "pygments_lexer": "ipython3",
   "version": "3.8.10"
  }
 },
 "nbformat": 4,
 "nbformat_minor": 5
}
